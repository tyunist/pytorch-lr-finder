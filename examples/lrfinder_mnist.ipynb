{
 "cells": [
  {
   "cell_type": "markdown",
   "metadata": {},
   "source": [
    "# MNIST example with 3-conv. layer network\n",
    "\n",
    "This example demonstrates the usage of `LRFinder` with a 3-conv. layer network on the MNIST dataset."
   ]
  },
  {
   "cell_type": "code",
   "execution_count": 71,
   "metadata": {},
   "outputs": [],
   "source": [
    "%matplotlib inline\n",
    "\n",
    "import torch.nn as nn\n",
    "import torch.nn.functional as F\n",
    "import torch.optim as optim\n",
    "import torchvision.transforms as transforms\n",
    "from torch.utils.data import DataLoader\n",
    "from torchvision.datasets import MNIST\n",
    "\n",
    "try:\n",
    "    from torch_lr_finder import LRFinder\n",
    "except ImportError:\n",
    "    # Run from source\n",
    "    import sys\n",
    "    sys.path.insert(0, '..')\n",
    "    from torch_lr_finder import LRFinder"
   ]
  },
  {
   "cell_type": "markdown",
   "metadata": {},
   "source": [
    "## Loading MNIST"
   ]
  },
  {
   "cell_type": "code",
   "execution_count": 72,
   "metadata": {},
   "outputs": [],
   "source": [
    "mnist_pwd = \"../data\"\n",
    "batch_size= 256"
   ]
  },
  {
   "cell_type": "code",
   "execution_count": 73,
   "metadata": {},
   "outputs": [],
   "source": [
    "transform = transforms.Compose([transforms.ToTensor(), transforms.Normalize((0.1307,), (0.3081,))])\n",
    "\n",
    "trainset = MNIST(mnist_pwd, train=True, download=True, transform=transform)\n",
    "trainloader = DataLoader(trainset, batch_size=batch_size, shuffle=True, num_workers=0)\n",
    "\n",
    "testset = MNIST(mnist_pwd, train=False, download=True, transform=transform)\n",
    "testloader = DataLoader(testset, batch_size=batch_size * 2, shuffle=False, num_workers=0)"
   ]
  },
  {
   "cell_type": "markdown",
   "metadata": {},
   "source": [
    "## Model"
   ]
  },
  {
   "cell_type": "code",
   "execution_count": 74,
   "metadata": {
    "scrolled": true
   },
   "outputs": [],
   "source": [
    "class Net(nn.Module):\n",
    "    def __init__(self):\n",
    "        super(Net, self).__init__()\n",
    "        self.conv1 = nn.Conv2d(1, 10, kernel_size=5)\n",
    "        self.conv2 = nn.Conv2d(10, 20, kernel_size=5)\n",
    "        self.conv2_drop = nn.Dropout2d()\n",
    "        self.fc1 = nn.Linear(320, 50)\n",
    "        self.fc2 = nn.Linear(50, 10)\n",
    "\n",
    "    def forward(self, x):\n",
    "        x = F.relu(F.max_pool2d(self.conv1(x), 2))\n",
    "        x = F.relu(F.max_pool2d(self.conv2_drop(self.conv2(x)), 2))\n",
    "        x = x.view(-1, 320)\n",
    "        x = F.relu(self.fc1(x))\n",
    "        x = F.dropout(x, training=self.training)\n",
    "        x = self.fc2(x)\n",
    "        return F.log_softmax(x, dim=1)\n",
    "    \n",
    "model = Net()"
   ]
  },
  {
   "cell_type": "code",
   "execution_count": 77,
   "metadata": {},
   "outputs": [
    {
     "name": "stdout",
     "output_type": "stream",
     "text": [
      "- Module conv1.weight\n",
      " \t \t mean: -0.008412416093051434 \n",
      " \t \t max: 0.19864432513713837 \n",
      " \t \t min: -0.20022745430469513\n",
      "- Module conv1.bias\n",
      " \t \t mean: -0.049846068024635315 \n",
      " \t \t max: 0.1648939996957779 \n",
      " \t \t min: -0.19886578619480133\n",
      "- Module conv2.weight\n",
      " \t \t mean: -0.0003912231477443129 \n",
      " \t \t max: 0.0681159719824791 \n",
      " \t \t min: -0.06377794593572617\n",
      "- Module conv2.bias\n",
      " \t \t mean: 0.009952106513082981 \n",
      " \t \t max: 0.061483364552259445 \n",
      " \t \t min: -0.05263204500079155\n",
      "- Module fc1.weight\n",
      " \t \t mean: 0.00047862465726211667 \n",
      " \t \t max: 0.058644477277994156 \n",
      " \t \t min: -0.056776463985443115\n",
      "- Module fc1.bias\n",
      " \t \t mean: 0.001839962205849588 \n",
      " \t \t max: 0.05351809412240982 \n",
      " \t \t min: -0.0542694628238678\n",
      "- Module fc2.weight\n",
      " \t \t mean: -0.004528908059000969 \n",
      " \t \t max: 0.14259041845798492 \n",
      " \t \t min: -0.1416158825159073\n",
      "- Module fc2.bias\n",
      " \t \t mean: 0.03527223318815231 \n",
      " \t \t max: 0.13590747117996216 \n",
      " \t \t min: -0.13963232934474945\n"
     ]
    }
   ],
   "source": [
    "# Evaluate the initial weights \n",
    "named_params = model.named_parameters()\n",
    "for name, module in named_params:\n",
    "    print(f'- Module {name}\\n \\t \\t mean: {module.mean()} \\n \\t \\t max: {module.max()} \\n \\t \\t min: {module.min()}')"
   ]
  },
  {
   "cell_type": "markdown",
   "metadata": {},
   "source": [
    "## Training loss (fastai)\n",
    "\n",
    "This learning rate test range follows the same procedure used by fastai. The model is trained for `num_iter` iterations while the learning rate is increased from its initial value specified by the optimizer algorithm to `end_lr`. The increase can be linear (`step_mode=\"linear\"`) or exponential (`step_mode=\"exp\"`); linear provides good results for small ranges while exponential is recommended for larger ranges."
   ]
  },
  {
   "cell_type": "code",
   "execution_count": 6,
   "metadata": {},
   "outputs": [
    {
     "data": {
      "application/vnd.jupyter.widget-view+json": {
       "model_id": "66d944143a9543819bc57aea60fc5412",
       "version_major": 2,
       "version_minor": 0
      },
      "text/plain": [
       "HBox(children=(FloatProgress(value=0.0), HTML(value='')))"
      ]
     },
     "metadata": {},
     "output_type": "display_data"
    },
    {
     "name": "stdout",
     "output_type": "stream",
     "text": [
      "\n",
      "Learning rate search finished. See the graph with {finder_name}.plot()\n"
     ]
    }
   ],
   "source": [
    "criterion = nn.NLLLoss()\n",
    "optimizer = optim.SGD(model.parameters(), lr=0.001, momentum=0.5)\n",
    "lr_finder = LRFinder(model, optimizer, criterion, device=\"cuda\")\n",
    "lr_finder.range_test(trainloader, end_lr=10, num_iter=100, step_mode=\"exp\")"
   ]
  },
  {
   "cell_type": "markdown",
   "metadata": {},
   "source": [
    "Note that the loss in the loss vs. learning rate plot is the **training** loss."
   ]
  },
  {
   "cell_type": "code",
   "execution_count": 7,
   "metadata": {
    "scrolled": false
   },
   "outputs": [
    {
     "name": "stdout",
     "output_type": "stream",
     "text": [
      "LR suggestion: steepest gradient\n",
      "Suggested LR: 2.42E-01\n"
     ]
    },
    {
     "data": {
      "image/png": "[encoded data removed]",
      "text/plain": [
       "<Figure size 432x288 with 1 Axes>"
      ]
     },
     "metadata": {
      "needs_background": "light"
     },
     "output_type": "display_data"
    },
    {
     "data": {
      "text/plain": [
       "(<matplotlib.axes._subplots.AxesSubplot at 0x7fc8c685bd50>,\n",
       " 0.24201282647943811)"
      ]
     },
     "execution_count": 7,
     "metadata": {},
     "output_type": "execute_result"
    }
   ],
   "source": [
    "lr_finder.plot(log_lr=True)"
   ]
  },
  {
   "cell_type": "code",
   "execution_count": 8,
   "metadata": {},
   "outputs": [
    {
     "name": "stdout",
     "output_type": "stream",
     "text": [
      "LR suggestion: steepest gradient\n",
      "Suggested LR: 2.42E-01\n"
     ]
    },
    {
     "data": {
      "image/png": "[encoded data removed]",
      "text/plain": [
       "<Figure size 432x288 with 1 Axes>"
      ]
     },
     "metadata": {
      "needs_background": "light"
     },
     "output_type": "display_data"
    },
    {
     "data": {
      "text/plain": [
       "(<matplotlib.axes._subplots.AxesSubplot at 0x7fc8b971f210>,\n",
       " 0.24201282647943811)"
      ]
     },
     "execution_count": 8,
     "metadata": {},
     "output_type": "execute_result"
    }
   ],
   "source": [
    "# Show some lrs\n",
    "lr_finder.plot(log_lr=True, show_lr=[1e-1,  0.1, 0.2, 0.3, 0.4, 0.5])"
   ]
  },
  {
   "cell_type": "code",
   "execution_count": 22,
   "metadata": {},
   "outputs": [
    {
     "name": "stdout",
     "output_type": "stream",
     "text": [
      "- Module conv1.weight\n",
      " \t \t mean: -0.5631905794143677 \n",
      " \t \t max: 1.0295658111572266 \n",
      " \t \t min: -7.622307777404785\n",
      "- Module conv1.bias\n",
      " \t \t mean: -0.9652428030967712 \n",
      " \t \t max: 0.6579212546348572 \n",
      " \t \t min: -4.344000339508057\n",
      "- Module conv2.weight\n",
      " \t \t mean: -0.3166534900665283 \n",
      " \t \t max: 0.1688554584980011 \n",
      " \t \t min: -37.87096405029297\n",
      "- Module conv2.bias\n",
      " \t \t mean: -0.42159876227378845 \n",
      " \t \t max: -0.021250568330287933 \n",
      " \t \t min: -4.632826805114746\n",
      "- Module fc1.weight\n",
      " \t \t mean: -0.11736834794282913 \n",
      " \t \t max: 0.8992581963539124 \n",
      " \t \t min: -26.487070083618164\n",
      "- Module fc1.bias\n",
      " \t \t mean: -0.3351338803768158 \n",
      " \t \t max: -0.014729334972798824 \n",
      " \t \t min: -2.045773983001709\n",
      "- Module fc2.weight\n",
      " \t \t mean: -0.004810352344065905 \n",
      " \t \t max: 2.647152900695801 \n",
      " \t \t min: -7.845766544342041\n",
      "- Module fc2.bias\n",
      " \t \t mean: 0.015598462894558907 \n",
      " \t \t max: 0.3336434066295624 \n",
      " \t \t min: -0.4912267327308655\n"
     ]
    }
   ],
   "source": [
    "# Evaluate weights after finding the lr\n",
    "named_params = model.named_parameters()\n",
    "for name, module in named_params:\n",
    "    print(f'- Module {name}\\n \\t \\t mean: {module.mean()} \\n \\t \\t max: {module.max()} \\n \\t \\t min: {module.min()}')"
   ]
  },
  {
   "cell_type": "markdown",
   "metadata": {},
   "source": [
    "To restore the model and optimizer to their initial state use the `reset()` method."
   ]
  },
  {
   "cell_type": "code",
   "execution_count": 10,
   "metadata": {},
   "outputs": [],
   "source": [
    "lr_finder.reset()"
   ]
  },
  {
   "cell_type": "code",
   "execution_count": 11,
   "metadata": {},
   "outputs": [
    {
     "name": "stdout",
     "output_type": "stream",
     "text": [
      "- Module conv1.weight\n",
      " \t \t mean: 3.215736069250852e-05 \n",
      " \t \t max: 0.19959957897663116 \n",
      " \t \t min: -0.1992667019367218\n",
      "- Module conv1.bias\n",
      " \t \t mean: 0.019651666283607483 \n",
      " \t \t max: 0.16063104569911957 \n",
      " \t \t min: -0.17914514243602753\n",
      "- Module conv2.weight\n",
      " \t \t mean: -0.0006517112487927079 \n",
      " \t \t max: 0.06324551999568939 \n",
      " \t \t min: -0.06322894990444183\n",
      "- Module conv2.bias\n",
      " \t \t mean: -0.0022223014384508133 \n",
      " \t \t max: 0.05429922044277191 \n",
      " \t \t min: -0.06234666705131531\n",
      "- Module fc1.weight\n",
      " \t \t mean: -0.00022833132243249565 \n",
      " \t \t max: 0.05589595437049866 \n",
      " \t \t min: -0.05590146407485008\n",
      "- Module fc1.bias\n",
      " \t \t mean: -0.005663219839334488 \n",
      " \t \t max: 0.05146395415067673 \n",
      " \t \t min: -0.05483570694923401\n",
      "- Module fc2.weight\n",
      " \t \t mean: 0.0023726827930659056 \n",
      " \t \t max: 0.14094178378582 \n",
      " \t \t min: -0.14012092351913452\n",
      "- Module fc2.bias\n",
      " \t \t mean: -0.03946481645107269 \n",
      " \t \t max: 0.12451539933681488 \n",
      " \t \t min: -0.13725951313972473\n"
     ]
    }
   ],
   "source": [
    "# Evaluate weights after reseting the lr\n",
    "named_params = model.named_parameters()\n",
    "for name, module in named_params:\n",
    "    print(f'- Module {name}\\n \\t \\t mean: {module.mean()} \\n \\t \\t max: {module.max()} \\n \\t \\t min: {module.min()}')"
   ]
  },
  {
   "cell_type": "markdown",
   "metadata": {},
   "source": [
    "We can also run the test with a different starting learning rate without creating a new optimizer using the `start_lr` parameter."
   ]
  },
  {
   "cell_type": "code",
   "execution_count": 14,
   "metadata": {},
   "outputs": [
    {
     "data": {
      "application/vnd.jupyter.widget-view+json": {
       "model_id": "c3a306cd9a0c468dbf901a40ce1f350c",
       "version_major": 2,
       "version_minor": 0
      },
      "text/plain": [
       "HBox(children=(FloatProgress(value=0.0), HTML(value='')))"
      ]
     },
     "metadata": {},
     "output_type": "display_data"
    },
    {
     "name": "stdout",
     "output_type": "stream",
     "text": [
      "\n",
      "Learning rate search finished. See the graph with {finder_name}.plot()\n",
      "LR suggestion: steepest gradient\n",
      "Suggested LR: 4.09E-01\n"
     ]
    },
    {
     "data": {
      "image/png": "[encoded data removed]",
      "text/plain": [
       "<Figure size 432x288 with 1 Axes>"
      ]
     },
     "metadata": {
      "needs_background": "light"
     },
     "output_type": "display_data"
    }
   ],
   "source": [
    "lr_finder.range_test(trainloader, start_lr=0.02, end_lr=1.5, num_iter=100, step_mode=\"linear\")\n",
    "lr_finder.plot(log_lr=False)\n",
    "lr_finder.reset()"
   ]
  },
  {
   "cell_type": "code",
   "execution_count": 15,
   "metadata": {},
   "outputs": [
    {
     "data": {
      "application/vnd.jupyter.widget-view+json": {
       "model_id": "c8489fd1f9564f3d98b1c31484167e81",
       "version_major": 2,
       "version_minor": 0
      },
      "text/plain": [
       "HBox(children=(FloatProgress(value=0.0), HTML(value='')))"
      ]
     },
     "metadata": {},
     "output_type": "display_data"
    },
    {
     "name": "stdout",
     "output_type": "stream",
     "text": [
      "\n",
      "Learning rate search finished. See the graph with {finder_name}.plot()\n",
      "LR suggestion: steepest gradient\n",
      "Suggested LR: 1.62E-01\n"
     ]
    },
    {
     "data": {
      "image/png": "[encoded data removed]",
      "text/plain": [
       "<Figure size 432x288 with 1 Axes>"
      ]
     },
     "metadata": {
      "needs_background": "light"
     },
     "output_type": "display_data"
    }
   ],
   "source": [
    "lr_finder.range_test(trainloader, start_lr=0.02, end_lr=1.5, num_iter=100, step_mode=\"exp\")\n",
    "lr_finder.plot(log_lr=False)\n",
    "lr_finder.reset()"
   ]
  },
  {
   "cell_type": "markdown",
   "metadata": {},
   "source": [
    "## Validation loss (Leslie N. Smith)\n",
    "\n",
    "If a dataloader is passed to `LRFinder.range_test()` through the `val_loader` parameter the model is evaluated on that dataset after each iteration. The evaluation loss is more sensitive to instability therefore it provides a more precise view of when the divergence occurs. The disadvantage is that it takes significantly longer to run.\n",
    "\n",
    "This version of the learning rate range test is described in [Cyclical Learning Rates for Training Neural Networks by Leslie N. Smith](https://arxiv.org/abs/1506.01186)."
   ]
  },
  {
   "cell_type": "code",
   "execution_count": 19,
   "metadata": {},
   "outputs": [
    {
     "data": {
      "application/vnd.jupyter.widget-view+json": {
       "model_id": "fd705341f17d425998b98d2aa7161981",
       "version_major": 2,
       "version_minor": 0
      },
      "text/plain": [
       "HBox(children=(FloatProgress(value=0.0), HTML(value='')))"
      ]
     },
     "metadata": {},
     "output_type": "display_data"
    },
    {
     "name": "stdout",
     "output_type": "stream",
     "text": [
      "\n",
      "Learning rate search finished. See the graph with {finder_name}.plot()\n"
     ]
    }
   ],
   "source": [
    "lr_finder.range_test(trainloader, val_loader=testloader, end_lr=10, num_iter=100, step_mode=\"exp\")"
   ]
  },
  {
   "cell_type": "markdown",
   "metadata": {},
   "source": [
    "Note that the loss in the loss vs. learning rate plot is the **evaluation** loss."
   ]
  },
  {
   "cell_type": "code",
   "execution_count": 20,
   "metadata": {},
   "outputs": [
    {
     "name": "stdout",
     "output_type": "stream",
     "text": [
      "LR suggestion: steepest gradient\n",
      "Suggested LR: 2.54E-03\n"
     ]
    },
    {
     "data": {
      "image/png": "[encoded data removed]",
      "text/plain": [
       "<Figure size 432x288 with 1 Axes>"
      ]
     },
     "metadata": {
      "needs_background": "light"
     },
     "output_type": "display_data"
    },
    {
     "data": {
      "text/plain": [
       "<matplotlib.axes._subplots.AxesSubplot at 0x7fc8b0650ed0>"
      ]
     },
     "execution_count": 20,
     "metadata": {},
     "output_type": "execute_result"
    }
   ],
   "source": [
    "lr_finder.plot(skip_end=1)"
   ]
  },
  {
   "cell_type": "markdown",
   "metadata": {},
   "source": [
    "To restore the model and optimizer to their initial state use the `reset()` method."
   ]
  },
  {
   "cell_type": "code",
   "execution_count": 21,
   "metadata": {},
   "outputs": [],
   "source": [
    "lr_finder.reset()"
   ]
  },
  {
   "cell_type": "code",
   "execution_count": 32,
   "metadata": {},
   "outputs": [
    {
     "data": {
      "application/vnd.jupyter.widget-view+json": {
       "model_id": "8239fda0bc2c4d36a987f3225d2f97a5",
       "version_major": 2,
       "version_minor": 0
      },
      "text/plain": [
       "HBox(children=(FloatProgress(value=0.0), HTML(value='')))"
      ]
     },
     "metadata": {},
     "output_type": "display_data"
    },
    {
     "name": "stdout",
     "output_type": "stream",
     "text": [
      "\n",
      "Learning rate search finished. See the graph with {finder_name}.plot()\n",
      "LR suggestion: steepest gradient\n",
      "Suggested LR: 2.01E-03\n"
     ]
    },
    {
     "data": {
      "image/png": "[encoded data removed]",
      "text/plain": [
       "<Figure size 432x288 with 1 Axes>"
      ]
     },
     "metadata": {
      "needs_background": "light"
     },
     "output_type": "display_data"
    }
   ],
   "source": [
    "# Linear\n",
    "lr_finder.range_test(trainloader, val_loader=testloader, end_lr=1, num_iter=100, step_mode=\"exp\")\n",
    "lr_finder.plot(log_lr=True)\n",
    "lr_finder.reset()"
   ]
  },
  {
   "cell_type": "markdown",
   "metadata": {},
   "source": [
    "# Evaluate found learning rates "
   ]
  },
  {
   "cell_type": "code",
   "execution_count": 97,
   "metadata": {},
   "outputs": [],
   "source": [
    "criterion = nn.NLLLoss()\n",
    "\n",
    "\n",
    "def train_one_epoch(model, optimizer, epoch=0):\n",
    "    model.train()\n",
    "    total_loss = 0. \n",
    "    for iter, (imgs, targets) in enumerate(trainloader):\n",
    "        if iter > 1000:\n",
    "            break\n",
    "        imgs = imgs.cuda()\n",
    "        targets = targets.cuda()\n",
    "        \n",
    "        optimizer.zero_grad()\n",
    "        \n",
    "        outputs = model(imgs)\n",
    "        loss = criterion(outputs, targets)\n",
    "        loss.backward()\n",
    "        optimizer.step()\n",
    "        total_loss += loss.detach().cpu().item()\n",
    "        \n",
    "    print(f'\\n[Training| Epoch {epoch}|  loss: {total_loss/(iter+1)}')\n",
    "    \n",
    "    return model\n",
    "\n",
    "def evaluation(model):\n",
    "    total_loss = 0.\n",
    "    model.eval()\n",
    "    for iter, (imgs, targets) in enumerate(testloader):\n",
    "        imgs = imgs.cuda()\n",
    "        targets = targets.cuda() \n",
    "        \n",
    "        with torch.no_grad():\n",
    "            outputs = model(imgs)\n",
    "        loss = criterion(outputs, targets)\n",
    "        total_loss += loss\n",
    "    print(f'\\n[Eval] Avg loss: {total_loss/len(testloader)}\\n===============')\n"
   ]
  },
  {
   "cell_type": "code",
   "execution_count": 98,
   "metadata": {},
   "outputs": [
    {
     "name": "stdout",
     "output_type": "stream",
     "text": [
      "\n",
      "==================== LR = 0.242 ======================\n",
      "\n",
      "\n",
      "[Training| Epoch 0|  loss: 0.5596843419556922\n",
      "\n",
      "[Eval] Avg loss: 0.12352388352155685\n",
      "===============\n",
      "\n",
      "[Training| Epoch 1|  loss: 0.2682568329445859\n",
      "\n",
      "[Eval] Avg loss: 0.07258277386426926\n",
      "===============\n",
      "\n",
      "[Training| Epoch 2|  loss: 0.22360476239564572\n",
      "\n",
      "[Eval] Avg loss: 0.06536003202199936\n",
      "===============\n",
      "\n",
      "==================== LR = 0.409 ======================\n",
      "\n",
      "\n",
      "[Training| Epoch 0|  loss: 0.7231562564981745\n",
      "\n",
      "[Eval] Avg loss: 0.11664595454931259\n",
      "===============\n",
      "\n",
      "[Training| Epoch 1|  loss: 0.3759063603396111\n",
      "\n",
      "[Eval] Avg loss: 0.1170477494597435\n",
      "===============\n",
      "\n",
      "[Training| Epoch 2|  loss: 0.32550881872785853\n",
      "\n",
      "[Eval] Avg loss: 0.10846175998449326\n",
      "===============\n",
      "\n",
      "==================== LR = 0.162 ======================\n",
      "\n",
      "\n",
      "[Training| Epoch 0|  loss: 0.5673917628349142\n",
      "\n",
      "[Eval] Avg loss: 0.13004760444164276\n",
      "===============\n",
      "\n",
      "[Training| Epoch 1|  loss: 0.27389642336267106\n",
      "\n",
      "[Eval] Avg loss: 0.07550141960382462\n",
      "===============\n",
      "\n",
      "[Training| Epoch 2|  loss: 0.22202362979346132\n",
      "\n",
      "[Eval] Avg loss: 0.062488801777362823\n",
      "===============\n",
      "\n",
      "==================== LR = 0.00254 ======================\n",
      "\n",
      "\n",
      "[Training| Epoch 0|  loss: 2.268298054756002\n",
      "\n",
      "[Eval] Avg loss: 2.1581778526306152\n",
      "===============\n",
      "\n",
      "[Training| Epoch 1|  loss: 2.023527922021582\n",
      "\n",
      "[Eval] Avg loss: 1.6050752401351929\n",
      "===============\n",
      "\n",
      "[Training| Epoch 2|  loss: 1.5393410637023601\n",
      "\n",
      "[Eval] Avg loss: 0.9529599547386169\n",
      "===============\n",
      "\n",
      "==================== LR = 0.00201 ======================\n",
      "\n",
      "\n",
      "[Training| Epoch 0|  loss: 2.2789655005678218\n",
      "\n",
      "[Eval] Avg loss: 2.2260220050811768\n",
      "===============\n",
      "\n",
      "[Training| Epoch 1|  loss: 2.1744791629466604\n",
      "\n",
      "[Eval] Avg loss: 1.981873869895935\n",
      "===============\n",
      "\n",
      "[Training| Epoch 2|  loss: 1.8234486351621912\n",
      "\n",
      "[Eval] Avg loss: 1.2440943717956543\n",
      "===============\n"
     ]
    }
   ],
   "source": [
    "lrs = [2.42e-1, 4.09e-1, 1.62e-1, 2.54e-3, 2.01e-3]   \n",
    "\n",
    "import torch\n",
    "import pdb \n",
    "torch.manual_seed(0)\n",
    "for lr in lrs:\n",
    "    print(f'\\n==================== LR = {lr} ======================\\n')\n",
    "    model = Net().cuda()\n",
    "    optimizer = optim.SGD(model.parameters(), lr=lr, momentum=0.5)\n",
    "    \n",
    "    for epoch in range(3):\n",
    "        trained_model = train_one_epoch(model, optimizer, epoch)\n",
    "    \n",
    "        evaluation(trained_model)"
   ]
  }
 ],
 "metadata": {
  "kernelspec": {
   "display_name": "Python 3",
   "language": "python",
   "name": "python3"
  },
  "language_info": {
   "codemirror_mode": {
    "name": "ipython",
    "version": 3
   },
   "file_extension": ".py",
   "mimetype": "text/x-python",
   "name": "python",
   "nbconvert_exporter": "python",
   "pygments_lexer": "ipython3",
   "version": "3.7.8"
  }
 },
 "nbformat": 4,
 "nbformat_minor": 2
}
